{
 "cells": [
  {
   "cell_type": "code",
   "execution_count": 18,
   "id": "45e4a670",
   "metadata": {},
   "outputs": [],
   "source": [
    "import pandas as pd\n",
    "import numpy as np\n",
    "from collections import Counter\n",
    "from sklearn.preprocessing import normalize, StandardScaler\n",
    "from sklearn.model_selection import train_test_split"
   ]
  },
  {
   "cell_type": "code",
   "execution_count": 19,
   "id": "e99798a4",
   "metadata": {},
   "outputs": [],
   "source": [
    "raw_data=pd.read_csv(\"https://cf-courses-data.s3.us.cloud-object-storage.appdomain.cloud/IBMDeveloperSkillsNetwork-ML0101EN-SkillsNetwork/labs/Module%203/data/creditcard.csv\")\n",
    "raw_data.drop(raw_data.columns[0], axis=1, inplace=True)\n",
    "\n",
    "raw_data.iloc[:, 1:30] = StandardScaler().fit_transform(raw_data.iloc[:, 1:30])\n",
    "data_matrix = raw_data.values\n",
    "\n",
    "# X: feature matrix (for this analysis, we exclude the Time variable from the dataset)\n",
    "X = data_matrix[:, 1:30]\n",
    "\n",
    "# y: labels vector\n",
    "y = data_matrix[:, 30]\n",
    "\n",
    "# data normalization\n",
    "X = normalize(X, norm=\"l1\")\n",
    "\n",
    "X_train, X_test, y_train, y_test = train_test_split(X, y, test_size=0.3, random_state=42)"
   ]
  },
  {
   "cell_type": "code",
   "execution_count": null,
   "id": "caca8d6a",
   "metadata": {},
   "outputs": [],
   "source": [
    "def class_weights_balanced(y):\n",
    "    counts = Counter(y)\n",
    "    n = float(len(y)) # this is the total number of samples in original dataset\n",
    "    k = float(len(counts)) #this is total number of unique classes in the target variable set\n",
    "    return {c: n / (k * cnt) for c, cnt in counts.items()} # the more the count of a particular class, the less it's weight; sum of the reciprocals in equal to k\n",
    "\n",
    "\n",
    "def roc_auc(y_true, scores):\n",
    "    y_true = np.asarray(y_true, dtype=np.int8)\n",
    "    scores = np.asarray(scores, dtype=np.float64)\n",
    "\n",
    "    # Rank the scores (1‑based)\n",
    "    order = np.argsort(scores)\n",
    "    ranks = np.empty_like(order, dtype=np.int64)\n",
    "    ranks[order] = np.arange(1, len(scores) + 1)\n",
    "\n",
    "    n_pos = y_true.sum()\n",
    "    n_neg = len(y_true) - n_pos\n",
    "    if n_pos == 0 or n_neg == 0:\n",
    "        raise ValueError(\"Need at least one positive and one negative sample\")\n",
    "\n",
    "    pos_ranks_sum = ranks[y_true == 1].sum()\n",
    "    return (pos_ranks_sum - n_pos * (n_pos + 1) / 2) / (n_pos * n_neg)"
   ]
  },
  {
   "cell_type": "markdown",
   "id": "8d423ad2",
   "metadata": {},
   "source": [
    "### Explanation of roc_auc formula\n",
    "\n",
    "The Area under the curve (AUC) of the ROC curve (plot of True Positive Rate vs False Positive Rate) gives the probability of a random positive data point having higher score than a random negative data point.\n",
    "\n",
    "Let's keep that in mind for now.\n",
    "\n",
    "The method I've used here is U-statistic method.\n",
    "\n",
    "If I have scores for two groups A (size Na) and B (size Nb), and if I have a reason to believe that A and B have different distributions, I can use U statistic to verify that.\n",
    "\n",
    "To do that we will combine both A and B group scores and arrange them in ascending order. Then we will assign the ranks back to A and B group.\n",
    "Now Ua score calculates the number of times an A instance will be ranked higher than a B instance.\n",
    "\n",
    "Let's say the elements of group A have ranks Ra1, Ra2, Ra3, .......\n",
    "\n",
    "The first A element ranks higher than (Na + Nb) - Ra1 - (Na - 1) B elements.\n",
    "The second A element ranks higher than (Na + Nb) - Ra2 - (Na - 2) B elements.\n",
    "The third A element ranks higher than (Na + Nb) - Ra3 - (Na - 3) B elements.\n",
    "And so on...\n",
    "\n",
    "The total number of pairs out of NaxNb pairs where an A element ranks higher than a B element is:\n",
    "sum(Na + Nb) - sum(ranks) - sum(Na) + (1+2+3...Na)\n",
    " = NaNb + Na(Na+1)/2 - sum of ranks.\n",
    " \n",
    " This number is called Ua statistic. If both groups have identical distribution then this number should be around (NaNb)/2 because logically only half of the pairs will all A ranking higher than B.\n",
    " \n",
    "The probability that a random pair of a group A element and a group B element will have A ranking higher will be:\n",
    " \n",
    "Prob = sum/NaNb = 1 - (sum of ranks - Na(Na+1)/2)/NaNb\n",
    " \n",
    "So the probabilty that group A element will be ranked lower will be\n",
    "\n",
    "Prob = (sum of ranks - Na(Na+1)/2)/NaNb\n",
    "\n",
    "And this is exactly what we want because ROC - AUC gives you the probability that a positive value will have a higher score (hence lower rank) than a negative value"
   ]
  },
  {
   "cell_type": "code",
   "execution_count": 20,
   "id": "27abb468",
   "metadata": {},
   "outputs": [],
   "source": [
    "def train_linear_svm(X, y, epochs=10, lr0=0.01, C=1.0, random_state=31):\n",
    "\n",
    "    rng = np.random.default_rng(random_state)\n",
    "    X = np.asarray(X, dtype=np.float64)\n",
    "    y = np.asarray(y, dtype=np.int8)\n",
    "    n_samples, n_features = X.shape\n",
    "\n",
    "    w = np.zeros(n_features, dtype=np.float64)\n",
    "    y_signed = np.where(y == 1, 1.0, -1.0)\n",
    "    cw = class_weights_balanced(y)\n",
    "\n",
    "    t = 0  # global step counter\n",
    "    for _ in range(epochs):\n",
    "        for i in rng.permutation(n_samples):\n",
    "            t += 1\n",
    "            lr = lr0 / (1.0 + 0.01 * t)\n",
    "\n",
    "            xi = X[i]\n",
    "            yi = y_signed[i]\n",
    "            weight = cw[int(y[i])]\n",
    "            margin = yi * np.dot(w, xi)\n",
    "\n",
    "            if margin < 1.0:\n",
    "                # w ← (1‑lr)·w + lr·C·weight·yi·xi\n",
    "                w = (1.0 - lr) * w + lr * C * weight * yi * xi\n",
    "            else:\n",
    "                # only regularisation term\n",
    "                w *= (1.0 - lr)\n",
    "    return w\n",
    "\n",
    "\n",
    "def decision_function(X, w):\n",
    "    X = np.asarray(X, dtype=np.float64)\n",
    "    return X @ w"
   ]
  },
  {
   "cell_type": "code",
   "execution_count": 21,
   "id": "f3a9e857",
   "metadata": {},
   "outputs": [
    {
     "name": "stdout",
     "output_type": "stream",
     "text": [
      "SVM ROC-AUC score: 0.985\n"
     ]
    }
   ],
   "source": [
    "w = train_linear_svm(X_train, y_train, random_state=31)\n",
    "\n",
    "y_pred_svm = decision_function(X_test, w)\n",
    "\n",
    "roc_auc_svm = roc_auc(y_test, y_pred_svm)\n",
    "print(\"SVM ROC-AUC score: {0:.3f}\".format(roc_auc_svm))"
   ]
  },
  {
   "cell_type": "code",
   "execution_count": null,
   "id": "300818a9",
   "metadata": {},
   "outputs": [],
   "source": []
  }
 ],
 "metadata": {
  "kernelspec": {
   "display_name": "Python 3 (ipykernel)",
   "language": "python",
   "name": "python3"
  },
  "language_info": {
   "codemirror_mode": {
    "name": "ipython",
    "version": 3
   },
   "file_extension": ".py",
   "mimetype": "text/x-python",
   "name": "python",
   "nbconvert_exporter": "python",
   "pygments_lexer": "ipython3",
   "version": "3.11.4"
  }
 },
 "nbformat": 4,
 "nbformat_minor": 5
}
